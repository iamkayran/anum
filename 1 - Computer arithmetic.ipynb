{
 "cells": [
  {
   "cell_type": "markdown",
   "metadata": {},
   "source": [
    "# Computer arithmetic\n"
   ]
  },
  {
   "cell_type": "markdown",
   "metadata": {},
   "source": [
    "## Floating-Point Numbers and Roundoff Errors\n",
    "\n",
    "### Single precision arithmetic\n",
    "In Julia we have **Float32** type for ***single precision airhtmetic***;<br/>\n",
    "see [https://en.wikipedia.org/wiki/Single-precision_floating-point_format]"
   ]
  },
  {
   "cell_type": "code",
   "execution_count": 1,
   "metadata": {},
   "outputs": [
    {
     "data": {
      "text/plain": [
       "Float32"
      ]
     },
     "execution_count": 1,
     "metadata": {},
     "output_type": "execute_result"
    }
   ],
   "source": [
    "### Single precision arithmetic (float in C/C++)\n",
    "z = Float32(1.0)\n",
    "x = 1.0f0\n",
    "y = 0.5f-8\n",
    "typeof(x)\n",
    "typeof(y)"
   ]
  },
  {
   "cell_type": "markdown",
   "metadata": {},
   "source": [
    "### Double precision arithmetic\n",
    "By default we have **Float64** type for ***floating-point numbers***."
   ]
  },
  {
   "cell_type": "code",
   "execution_count": 2,
   "metadata": {},
   "outputs": [
    {
     "data": {
      "text/plain": [
       "Float64"
      ]
     },
     "execution_count": 2,
     "metadata": {},
     "output_type": "execute_result"
    }
   ],
   "source": [
    "### Double precision arithmetic - Float64 (double in C/C++)\n",
    "x = 12.0;\n",
    "y = 2.0e-7;\n",
    "typeof(x)\n",
    "typeof(y)"
   ]
  },
  {
   "cell_type": "code",
   "execution_count": 3,
   "metadata": {},
   "outputs": [
    {
     "data": {
      "text/plain": [
       "(Float32, Float64)"
      ]
     },
     "execution_count": 3,
     "metadata": {},
     "output_type": "execute_result"
    }
   ],
   "source": [
    "x = Float32( 1.0 )\n",
    "y = Float64( 1.0 )\n",
    "typeof(x), typeof(y)"
   ]
  },
  {
   "cell_type": "markdown",
   "metadata": {},
   "source": [
    "### IEEE 754 \n",
    "$$ x = s m 2^c $$\n",
    "\n",
    "* [single precision](https://en.wikipedia.org/wiki/Single-precision_floating-point_format)\n",
    "* [double precision](https://en.wikipedia.org/wiki/Double-precision_floating-point_format)\n"
   ]
  },
  {
   "cell_type": "code",
   "execution_count": 4,
   "metadata": {},
   "outputs": [
    {
     "name": "stdout",
     "output_type": "stream",
     "text": [
      "x = s * 2.0 ^ c * m = 0.0361328125\n"
     ]
    },
    {
     "data": {
      "text/plain": [
       "Float64"
      ]
     },
     "execution_count": 4,
     "metadata": {},
     "output_type": "execute_result"
    }
   ],
   "source": [
    "### floating-point arithmetic representation\n",
    "# s-sign, c-exponent, m-mantissa\n",
    "(s,c,m) = ( 1.0,\n",
    "           -5,\n",
    "           1.0 + 2.0^(-3) + 2.0^(-5) )\n",
    "\n",
    "@show x = s*2.0^c*m;\n",
    "typeof(x)"
   ]
  },
  {
   "cell_type": "code",
   "execution_count": 5,
   "metadata": {},
   "outputs": [
    {
     "data": {
      "text/plain": [
       "\"0011111110100010100000000000000000000000000000000000000000000000\""
      ]
     },
     "execution_count": 5,
     "metadata": {},
     "output_type": "execute_result"
    }
   ],
   "source": [
    "repr = bits(x) # gives binary representation"
   ]
  },
  {
   "cell_type": "code",
   "execution_count": 6,
   "metadata": {},
   "outputs": [
    {
     "name": "stdout",
     "output_type": "stream",
     "text": [
      "64-bit machine word for x = 0.036133 is \n",
      "0|01111111010|0010100000000000000000000000000000000000000000000000\n"
     ]
    }
   ],
   "source": [
    "rs = repr[1];        # sign      - the first bit\n",
    "rc = repr[2:12];     # exponent  - next 11 bits\n",
    "rm = repr[13:end]    # mantissa  - last 52 bits\n",
    "@printf(\"64-bit machine word for x = %f is \\n%c|%s|%s\\n\", x, rs,rc,rm);"
   ]
  },
  {
   "cell_type": "code",
   "execution_count": 7,
   "metadata": {},
   "outputs": [
    {
     "name": "stdout",
     "output_type": "stream",
     "text": [
      "c + 1023 = 1018\n",
      "bits(c + 1023) = \"0000000000000000000000000000000000000000000000000000001111111010\"\n"
     ]
    },
    {
     "data": {
      "text/plain": [
       "true"
      ]
     },
     "execution_count": 7,
     "metadata": {},
     "output_type": "execute_result"
    }
   ],
   "source": [
    "### The exponent is encoded as simple binary representation of c+1023 (only 11 bits)\n",
    "\n",
    "@show c+1023\n",
    "@show bits( c+1023 )\n",
    "tmp = bits( c+1023 )[end-10:end];\n",
    "rc == tmp"
   ]
  },
  {
   "cell_type": "markdown",
   "metadata": {},
   "source": [
    "### NaN and Inf ***numbers***"
   ]
  },
  {
   "cell_type": "code",
   "execution_count": 8,
   "metadata": {},
   "outputs": [
    {
     "name": "stdout",
     "output_type": "stream",
     "text": [
      "0111111111111000000000000000000000000000000000000000000000000000\n",
      "0111111111110000000000000000000000000000000000000000000000000000\n"
     ]
    }
   ],
   "source": [
    "# (s,c,m) = (1.0, 1024, 1.5)  =>  NaN, (for example x = 1.0 / 0.0)\n",
    "# (s,c,m) = (1.0, 1024, 1.0)  =>  Inf\n",
    "\n",
    "println(bits(NaN))  #> 0|11111111111|1000000000000000000000000000000000000000000000000000\n",
    "println(bits(Inf))  #> 0|11111111111|0000000000000000000000000000000000000000000000000000"
   ]
  },
  {
   "cell_type": "markdown",
   "metadata": {},
   "source": [
    "### Half-precision (16-bit)"
   ]
  },
  {
   "cell_type": "code",
   "execution_count": 9,
   "metadata": {},
   "outputs": [
    {
     "name": "stdout",
     "output_type": "stream",
     "text": [
      "Resentation of 1.3 in 16-bit arithmetic = %.8f  = 1.29980469\n",
      "Resentation of 1.3 in 16-bit arithmetic = %.16f = 1.2998046875000000\n"
     ]
    }
   ],
   "source": [
    "##########################################################\n",
    "x = Float16(1.3); # Half precision (16 bits)\n",
    "@printf(\"Resentation of 1.3 in 16-bit arithmetic = %c.8f  = %.8f\\n\",  '%', x);  # 1.29980469\n",
    "@printf(\"Resentation of 1.3 in 16-bit arithmetic = %c.16f = %.16f\\n\", '%', x);  # 1.2998046875000000"
   ]
  },
  {
   "cell_type": "markdown",
   "metadata": {},
   "source": [
    "### Arithmetic precision\n",
    "$$ \\mathsf{u} = \\frac{1}{2} 2^{-t} $$"
   ]
  },
  {
   "cell_type": "code",
   "execution_count": 10,
   "metadata": {},
   "outputs": [
    {
     "name": "stdout",
     "output_type": "stream",
     "text": [
      "Arithmetic precision number for Float16 = 4.8828e-04\n",
      "Arithmetic precision number for Float32 = 5.9605e-08\n",
      "Arithmetic precision number for Float64 = 1.1102e-16\n"
     ]
    }
   ],
   "source": [
    "##########################################################\n",
    "# Computing the arithmetic precision number\n",
    "# Example:  myeps( Float16 )\n",
    "function aprec(T = Float64)\n",
    "  one, two = T(1.0), T(2.0)\n",
    "  x = one\n",
    "  while x+one>one\n",
    "    x=x/two\n",
    "  end\n",
    "  return x\n",
    "end\n",
    "@printf(\"Arithmetic precision number for Float16 = %.4e\\n\", aprec(Float16))\n",
    "@printf(\"Arithmetic precision number for Float32 = %.4e\\n\", aprec(Float32))\n",
    "@printf(\"Arithmetic precision number for Float64 = %.4e\\n\", aprec(Float64))"
   ]
  },
  {
   "cell_type": "code",
   "execution_count": 11,
   "metadata": {
    "collapsed": true
   },
   "outputs": [],
   "source": [
    "### Some test\n",
    "for (ftype,t) in [ (Float16,10), (Float32,23), (Float64,52) ]\n",
    "  assert( aprec(ftype) == 0.5 * 2.0^(-t) );\n",
    "end;"
   ]
  },
  {
   "cell_type": "markdown",
   "metadata": {},
   "source": [
    "### Machine epsilon\n",
    "Julia has built-in function [***eps(...)***](https://docs.julialang.org/en/stable/manual/integers-and-floating-point-numbers/#Machine-epsilon-1)"
   ]
  },
  {
   "cell_type": "code",
   "execution_count": 12,
   "metadata": {},
   "outputs": [
    {
     "name": "stdout",
     "output_type": "stream",
     "text": [
      "eps(Float16) = 9.7656e-04\n",
      "eps(Float32) = 1.1921e-07\n",
      "eps(Float64) = 2.2204e-16\n"
     ]
    }
   ],
   "source": [
    "# help(\"Base.eps\");\n",
    "@printf(\"eps(Float16) = %.4e\\n\", eps(Float16));\n",
    "@printf(\"eps(Float32) = %.4e\\n\", eps(Float32));\n",
    "@printf(\"eps(Float64) = %.4e\\n\", eps(Float64));"
   ]
  },
  {
   "cell_type": "markdown",
   "metadata": {},
   "source": [
    "Thus we conclude that\n",
    "$$ \\mathsf u = \\frac{1}{2} \\mathtt{eps} $$"
   ]
  }
 ],
 "metadata": {
  "kernelspec": {
   "display_name": "Julia 0.6.0",
   "language": "julia",
   "name": "julia-0.6"
  },
  "language_info": {
   "file_extension": ".jl",
   "mimetype": "application/julia",
   "name": "julia",
   "version": "0.6.0"
  }
 },
 "nbformat": 4,
 "nbformat_minor": 2
}
