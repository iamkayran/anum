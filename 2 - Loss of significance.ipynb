{
 "cells": [
  {
   "cell_type": "markdown",
   "metadata": {},
   "source": [
    "# Loss of significance\n",
    "\n",
    "**Worth studying resources:**\n",
    "* [Wikipedia](https://www.wikiwand.com/en/Loss_of_significance)"
   ]
  },
  {
   "cell_type": "code",
   "execution_count": 1,
   "metadata": {
    "collapsed": true
   },
   "outputs": [],
   "source": [
    "using Plots"
   ]
  },
  {
   "cell_type": "markdown",
   "metadata": {},
   "source": [
    "# Example 1.\n",
    "Cosider the function $$f(x) = \\frac{1-\\cos(x)}{x^2}$$"
   ]
  },
  {
   "cell_type": "code",
   "execution_count": 2,
   "metadata": {},
   "outputs": [
    {
     "data": {
      "text/html": [
       "<img src=\"data:image/png;base64,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\" />"
      ]
     },
     "execution_count": 2,
     "metadata": {},
     "output_type": "execute_result"
    }
   ],
   "source": [
    "pyplot()\n",
    "f(x) = ( 1.0 - cos.(x) ) ./ x.^2\n",
    "\n",
    "x = linspace(0, 2*pi, 1000);\n",
    "plot(x, f(x), color=\"red\", linewidth=2.0, linestyle=:dash, \n",
    "    title=\"\\$f(x)=\\\\frac{1-\\\\cos(x)}{x^2}\\$\", legend=false, xlabel=\"\\$x\\$\")"
   ]
  },
  {
   "cell_type": "markdown",
   "metadata": {},
   "source": [
    "One can easily check that\n",
    "$$\\lim_{x\\to 0} f(x) = \\frac12.$$\n",
    "However, we have the **problem**"
   ]
  },
  {
   "cell_type": "code",
   "execution_count": 3,
   "metadata": {},
   "outputs": [
    {
     "name": "stdout",
     "output_type": "stream",
     "text": [
      "f(0.1000000000) = 0.499583\n",
      "f(0.0100000000) = 0.499996\n",
      "f(0.0010000000) = 0.500000\n",
      "f(0.0001000000) = 0.500000\n",
      "f(0.0000000150) = 0.493432\n",
      "f(0.0000000130) = 0.656937\n",
      "f(0.0000000110) = 0.917540\n"
     ]
    }
   ],
   "source": [
    "x_testing = [ 0.1, 0.01, 0.001, 0.0001,  0.000000015, 0.000000013, 0.000000011 ]\n",
    "for x in x_testing; @printf(\"f(%.10f) = %.6f\\n\", x, f(x)); end"
   ]
  },
  {
   "cell_type": "markdown",
   "metadata": {},
   "source": [
    "The most crazy result is **<tt>f(0.000000011) = 0.917540</tt>** which is very far from **<tt>0.5</tt>**.\n",
    "\n",
    "The reason is the **cancellation of digits (loss of significance)** caused by subtraction of almost the same numbers (in the numerator, i.e. $1-\\cos(x)$).\n",
    "\n",
    "### Solution\n",
    "The solution is to use *better* formula for $f(x)$ (without subtraction):\n",
    "$$f(x) = \\frac{2\\sin^2(x/2)}{x^2}$$"
   ]
  },
  {
   "cell_type": "code",
   "execution_count": 4,
   "metadata": {},
   "outputs": [
    {
     "name": "stdout",
     "output_type": "stream",
     "text": [
      "g(0.1000000000) = 0.499583\n",
      "g(0.0100000000) = 0.499996\n",
      "g(0.0010000000) = 0.500000\n",
      "g(0.0001000000) = 0.500000\n",
      "g(0.0000000150) = 0.500000\n",
      "g(0.0000000130) = 0.500000\n",
      "g(0.0000000110) = 0.500000\n"
     ]
    }
   ],
   "source": [
    "# f(x) = ( 1.0 - cos(x) ) ./ x.^2\n",
    "g(x) = 2.0*sin(x/2.0)^2/x^2\n",
    "for x in x_testing; @printf(\"g(%.10f) = %.6f\\n\", x, g(x)); end"
   ]
  },
  {
   "cell_type": "markdown",
   "metadata": {},
   "source": [
    "# Example 2 (similar problem, but with sinus)\n",
    "Consider the function $$f(x) = x-\\sin(x).$$\n",
    "Of course $f(x)>0$ for any $x\\in\\mathbb R$.\n",
    "\n",
    "But for very small number $x$ our computer gives <tt>f(x)=0.0</tt> (see the code below)."
   ]
  },
  {
   "cell_type": "code",
   "execution_count": 5,
   "metadata": {},
   "outputs": [
    {
     "name": "stdout",
     "output_type": "stream",
     "text": [
      "f(1.00e-06) = 1.667e-19\n",
      "f(2.00e-07) = 1.323e-21\n",
      "f(1.00e-07) = 1.721e-22\n",
      "f(7.00e-08) = 5.294e-23\n",
      "f(5.00e-08) = 1.985e-23\n",
      "f(3.00e-08) = 6.617e-24\n",
      "f(2.00e-08) = 0.000e+00\n",
      "f(1.00e-08) = 0.000e+00\n"
     ]
    }
   ],
   "source": [
    "x_testing = [ 100.0 20.0 10.0 7.0 5.0 3.0 2.0 1.0 ]*1e-8\n",
    "\n",
    "f(x) = x-sin(x)\n",
    "for x in x_testing; @printf(\"f(%.2e) = %.3e\\n\", x, f(x)); end"
   ]
  },
  {
   "cell_type": "markdown",
   "metadata": {},
   "source": [
    "Let us remark the following exact values:\n",
    "<pre>f(1.00e-06) = 1.667e-19\n",
    "f(2.00e-07) = 1.333e-21\n",
    "f(1.00e-07) = 1.667e-22\n",
    "f(7.00e-08) = 5.717e-23\n",
    "f(5.00e-08) = 2.083e-23\n",
    "f(3.00e-08) = 4.500e-24\n",
    "f(2.00e-08) = 1.333e-24\n",
    "f(1.00e-08) = 1.667e-25</pre>\n",
    " \n",
    "Thus in the case of ast two values, our computer have lost all the information. This can make a problem, especially if $f(x)$ appears in some denominator somewhere.\n",
    "\n",
    "### Solution\n",
    "A possible solution to this problem is to use Taylor's series for sinus (at $x=0$):\n",
    "$$ \\sin(x) = x - x^3/3! + x^5/5! - x^7/7! + \\ldots $$\n",
    "On ecan check that truncating that series after few terms yields very good results."
   ]
  },
  {
   "cell_type": "code",
   "execution_count": 6,
   "metadata": {},
   "outputs": [
    {
     "name": "stdout",
     "output_type": "stream",
     "text": [
      "g(1.00e-06) = 1.667e-19\n",
      "g(2.00e-07) = 1.333e-21\n",
      "g(1.00e-07) = 1.667e-22\n",
      "g(7.00e-08) = 5.717e-23\n",
      "g(5.00e-08) = 2.083e-23\n",
      "g(3.00e-08) = 4.500e-24\n",
      "g(2.00e-08) = 1.333e-24\n",
      "g(1.00e-08) = 1.667e-25\n"
     ]
    }
   ],
   "source": [
    "g(x) = x^3/factorial(3) - x^5/factorial(5) + x^7/factorial(7)\n",
    "for x = [ 100.0 20.0 10.0 7.0 5.0 3.0 2.0 1.0 ]*1e-8\n",
    "  y = g(x);\n",
    "  @printf(\"g(%.2e) = %.3e\\n\", x, y);\n",
    "end"
   ]
  },
  {
   "cell_type": "markdown",
   "metadata": {},
   "source": [
    "# Example 3 (roots of quadratic equation)\n",
    "Consider the simple quadratic equation\n",
    "$$ ax^2+bx+c = 0. $$\n",
    "The naive algorithm gives the following values."
   ]
  },
  {
   "cell_type": "code",
   "execution_count": 7,
   "metadata": {},
   "outputs": [
    {
     "name": "stdout",
     "output_type": "stream",
     "text": [
      "x1 = (-b - sqrt(Δ)) / (2.0a) = -9.999998999e6\n",
      "x2 = (-b + sqrt(Δ)) / (2.0a) = -0.0010000001639127731\n",
      "f(x1) = 0.0\n",
      "f(x2) = -0.0006381275670719333\n"
     ]
    },
    {
     "data": {
      "text/plain": [
       "-0.0006381275670719333"
      ]
     },
     "execution_count": 7,
     "metadata": {},
     "output_type": "execute_result"
    }
   ],
   "source": [
    "a = 1.0\n",
    "b = 9999999.0\n",
    "c = 1.0e4\n",
    "\n",
    "f(x) = a*x^2+b*x+c\n",
    "\n",
    "Δ=b^2-4.0*a*c\n",
    "\n",
    "@show x1 = (-b - sqrt(Δ)) / (2.0*a)\n",
    "@show x2 = (-b + sqrt(Δ)) / (2.0*a)\n",
    "\n",
    "@show f(x1)\n",
    "@show f(x2)"
   ]
  },
  {
   "cell_type": "markdown",
   "metadata": {},
   "source": [
    "We see that <tt>f(x2)</tt> **is not zero**. It is not evel *small* number.\n",
    "\n",
    "### Solution\n",
    "But if we use Viete's formula we obtain as follows"
   ]
  },
  {
   "cell_type": "code",
   "execution_count": 8,
   "metadata": {},
   "outputs": [
    {
     "name": "stdout",
     "output_type": "stream",
     "text": [
      "f(x2_prime) = 0.0\n",
      "x2       = -0.0010000001639128\n",
      "x2_prime = -0.0010000001001000\n"
     ]
    }
   ],
   "source": [
    "x2_prime = c/(a*x1)\n",
    "@show f(x2_prime)\n",
    "\n",
    "@printf(\"x2       = %.16f\\n\", x2);\n",
    "@printf(\"x2_prime = %.16f\\n\", x2_prime);"
   ]
  },
  {
   "cell_type": "markdown",
   "metadata": {},
   "source": [
    "# Example 4 (cummulative error)\n",
    "Now consider the summation of the series\n",
    "$$ \\sum_{k=1}^{\\infty} \\frac{1}{k^2} $$\n",
    "\n",
    "Using very long precision arithmetic we obtained the following values of partial sums\n",
    "<pre>s_{10^5} = 1.6449240668982262698057485033127\n",
    "s_{10^6} = 1.6449330668487264363057484999794\n",
    "s_{10^7} = 1.6449339668482314364722484999793\n",
    "s_{10^8} = 1.6449340568482264864724149999793\n",
    "s_{10^9} = 1.6449340658482264369724151664793</pre>"
   ]
  },
  {
   "cell_type": "code",
   "execution_count": 9,
   "metadata": {
    "collapsed": true
   },
   "outputs": [],
   "source": [
    "partialSum = Dict( \n",
    "    \"1e5\" => 1.6449240668982262698057485033127,\n",
    "    \"1e6\" => 1.6449330668487264363057484999794,\n",
    "    \"1e7\" => 1.6449339668482314364722484999793,\n",
    "    \"1e8\" => 1.6449340568482264864724149999793,\n",
    "    \"1e9\" => 1.6449340658482264369724151664793 );"
   ]
  },
  {
   "cell_type": "markdown",
   "metadata": {},
   "source": [
    "Consider the computation in **single precision arithmetic** (Float32)."
   ]
  },
  {
   "cell_type": "code",
   "execution_count": 4,
   "metadata": {},
   "outputs": [
    {
     "data": {
      "text/plain": [
       "Float32"
      ]
     },
     "execution_count": 4,
     "metadata": {},
     "output_type": "execute_result"
    }
   ],
   "source": [
    "real = Float32"
   ]
  },
  {
   "cell_type": "markdown",
   "metadata": {},
   "source": [
    "Let use two simple algorithms. First computes the partial sum by adding the term form the first (largest) to the last.\n",
    "The second algorithm does it in opposite direction. One can observe that the order of summation **really matters**."
   ]
  },
  {
   "cell_type": "code",
   "execution_count": 11,
   "metadata": {},
   "outputs": [
    {
     "data": {
      "text/plain": [
       "(alg1, alg2)"
      ]
     },
     "execution_count": 11,
     "metadata": {},
     "output_type": "execute_result"
    }
   ],
   "source": [
    "function alg1(n)\n",
    "  suma = zero(real);\n",
    "  for k = 1:1:n\n",
    "    suma = suma + one(real)/convert(real, k)/convert(real,k);\n",
    "  end\n",
    "  return suma\n",
    "end\n",
    "\n",
    "function alg2(n)\n",
    "  suma = zero(real);\n",
    "  for k = n:-1:1\n",
    "    suma = suma + one(real)/convert(real, k)/convert(real,k);\n",
    "  end\n",
    "  return suma\n",
    "end\n",
    "alg1, alg2"
   ]
  },
  {
   "cell_type": "code",
   "execution_count": 12,
   "metadata": {},
   "outputs": [
    {
     "name": "stdout",
     "output_type": "stream",
     "text": [
      "Algorithm 1: (largest->smallest)   s_{1e5} => 1.6447253227233887   (rel_err = 1.208e-04)\n",
      "Algorithm 2: (largest<-smallest)   s_{1e5} => 1.6449240446090698   (rel_err = 1.355e-08)\n",
      "Exact value                                => 1.6449240668982263\n",
      "-----\n",
      "Algorithm 1: (largest->smallest)   s_{1e6} => 1.6447253227233887   (rel_err = 1.263e-04)\n",
      "Algorithm 2: (largest<-smallest)   s_{1e6} => 1.6449329853057861   (rel_err = 4.957e-08)\n",
      "Exact value                                => 1.6449330668487265\n",
      "-----\n",
      "Algorithm 1: (largest->smallest)   s_{1e7} => 1.6447253227233887   (rel_err = 1.268e-04)\n",
      "Algorithm 2: (largest<-smallest)   s_{1e7} => 1.6449339389801025   (rel_err = 1.694e-08)\n",
      "Exact value                                => 1.6449339668482315\n",
      "-----\n",
      "Algorithm 1: (largest->smallest)   s_{1e8} => 1.6447253227233887   (rel_err = 1.269e-04)\n",
      "Algorithm 2: (largest<-smallest)   s_{1e8} => 1.6449340581893921   (rel_err = 8.153e-10)\n",
      "Exact value                                => 1.6449340568482265\n",
      "-----\n"
     ]
    }
   ],
   "source": [
    "for key in [ \"1e5\", \"1e6\", \"1e7\", \"1e8\" ]\n",
    "    n = Int64( parse(Float64,key) )\n",
    "    x = partialSum[key]\n",
    "    y = alg1(n)    \n",
    "    @printf(\"Algorithm 1: (largest->smallest)   s_{%s} => %.16f   (rel_err = %.3e)\\n\", key, y, abs(x-y)/x);\n",
    "    y = alg2(n)    \n",
    "    @printf(\"Algorithm 2: (largest<-smallest)   s_{%s} => %.16f   (rel_err = %.3e)\\n\", key, y, abs(x-y)/x);\n",
    "    @printf(\"Exact value                                => %.16f\\n\", x);\n",
    "    println(\"-----\")\n",
    "end"
   ]
  },
  {
   "cell_type": "markdown",
   "metadata": {},
   "source": [
    "It is woth to remind the arihtmetic precision for Float32"
   ]
  },
  {
   "cell_type": "code",
   "execution_count": 5,
   "metadata": {},
   "outputs": [
    {
     "name": "stdout",
     "output_type": "stream",
     "text": [
      "Arithmetic precision = 5.960e-08\n"
     ]
    }
   ],
   "source": [
    "@printf(\"Arithmetic precision = %.3e\\n\", 0.5*eps(real));"
   ]
  },
  {
   "cell_type": "markdown",
   "metadata": {},
   "source": [
    "So the first algorithm losts almost half of that precision :-(\n",
    "\n",
    "Second algorithm does not, and is stable, as well."
   ]
  },
  {
   "cell_type": "code",
   "execution_count": null,
   "metadata": {
    "collapsed": true
   },
   "outputs": [],
   "source": []
  }
 ],
 "metadata": {
  "kernelspec": {
   "display_name": "Julia 0.6.0",
   "language": "julia",
   "name": "julia-0.6"
  },
  "language_info": {
   "file_extension": ".jl",
   "mimetype": "application/julia",
   "name": "julia",
   "version": "0.6.0"
  }
 },
 "nbformat": 4,
 "nbformat_minor": 2
}
